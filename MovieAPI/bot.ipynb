{
 "metadata": {
  "language_info": {
   "codemirror_mode": {
    "name": "ipython",
    "version": 3
   },
   "file_extension": ".py",
   "mimetype": "text/x-python",
   "name": "python",
   "nbconvert_exporter": "python",
   "pygments_lexer": "ipython3",
   "version": "3.8.8"
  },
  "orig_nbformat": 2,
  "kernelspec": {
   "name": "python388jvsc74a57bd0a74758c0db5d19cd8c71fb45c43a78a01250facf375ca2a9adfe810dce4a5b64",
   "display_name": "Python 3.8.8 64-bit ('webscrap': conda)"
  }
 },
 "nbformat": 4,
 "nbformat_minor": 2,
 "cells": [
  {
   "cell_type": "code",
   "execution_count": 1,
   "metadata": {},
   "outputs": [],
   "source": [
    "from urllib.request import urlopen as uReq\n",
    "import bs4\n",
    "from bs4 import BeautifulSoup\n",
    "import requests\n",
    "import pandas as pd"
   ]
  },
  {
   "cell_type": "code",
   "execution_count": 2,
   "metadata": {},
   "outputs": [],
   "source": [
    "def download_img(img_url, title):\n",
    "    my_url = f'https://image.tmdb.org/t/p/w342/{img_url}'\n",
    "    response = requests.get(my_url, stream=True)\n",
    "    file_size = int(response.headers.get(\"Content-Length\", 0))\n",
    "    \n",
    "    with open('posters/' + img_url, \"wb\") as f:\n",
    "        for data in response.iter_content(1024):\n",
    "            f.write(data)\n",
    "    return img_url\n"
   ]
  },
  {
   "cell_type": "code",
   "execution_count": 3,
   "metadata": {},
   "outputs": [],
   "source": [
    "def get_data(id):\n",
    "    try:\n",
    "        movie_response = requests.get(f'{API_URL}/{id}{API_KEY}').json()\n",
    "        title = movie_response['title']\n",
    "        overview = movie_response['overview']\n",
    "        poster_path = movie_response['poster_path']\n",
    "        poster_path = download_img(poster_path)\n",
    "        print(poster_path)\n",
    "\n",
    "        video_response = requests.get(f'{API_URL}/{id}/videos{API_KEY}').json()\n",
    "        video_key = None\n",
    "        for vid in video_response['results']:\n",
    "            if vid['type'] == 'Trailer':\n",
    "                video_key = vid['key']\n",
    "        \n",
    "        if video_key is None:\n",
    "            return pd.Series({'id': np.nan, 'title': np.nan, 'overview': np.nan, 'poster_path': np.nan, 'video_key': np.nan})\n",
    "\n",
    "        return pd.Series({'id': id, 'title': title, 'overview': overview, 'poster_path': poster_path, 'video_key': video_key})\n",
    "    except:\n",
    "        return pd.Series({'id': np.nan, 'title': np.nan, 'overview': np.nan, 'poster_path': np.nan, 'video_key': np.nan})\n"
   ]
  },
  {
   "cell_type": "code",
   "execution_count": 4,
   "metadata": {},
   "outputs": [],
   "source": [
    "links_df = pd.read_csv('ml-latest-small/links.csv')"
   ]
  },
  {
   "cell_type": "code",
   "execution_count": 5,
   "metadata": {},
   "outputs": [],
   "source": [
    "API_KEY = '?api_key=9fe15a0c0fc071b3fab1b7cb6cf61dee'\n",
    "API_URL = 'https://api.themoviedb.org/3/movie/'"
   ]
  },
  {
   "cell_type": "code",
   "execution_count": 6,
   "metadata": {},
   "outputs": [],
   "source": [
    "res = links_df.loc[:10, 'tmdbId'].apply(get_data)"
   ]
  },
  {
   "cell_type": "code",
   "execution_count": 7,
   "metadata": {},
   "outputs": [
    {
     "output_type": "execute_result",
     "data": {
      "text/plain": [
       "         id                        title  \\\n",
       "0     862.0                    Toy Story   \n",
       "1    8844.0                      Jumanji   \n",
       "2   15602.0             Grumpier Old Men   \n",
       "3   31357.0            Waiting to Exhale   \n",
       "4   11862.0  Father of the Bride Part II   \n",
       "5     949.0                         Heat   \n",
       "6   11860.0                      Sabrina   \n",
       "7   45325.0                 Tom and Huck   \n",
       "8    9091.0                 Sudden Death   \n",
       "9     710.0                    GoldenEye   \n",
       "10   9087.0       The American President   \n",
       "\n",
       "                                             overview  \\\n",
       "0   Led by Woody, Andy's toys live happily in his ...   \n",
       "1   When siblings Judy and Peter discover an encha...   \n",
       "2   A family wedding reignites the ancient feud be...   \n",
       "3   Cheated on, mistreated and stepped on, the wom...   \n",
       "4   Just when George Banks has recovered from his ...   \n",
       "5   Obsessive master thief, Neil McCauley leads a ...   \n",
       "6   An ugly duckling having undergone a remarkable...   \n",
       "7   A mischievous young boy, Tom Sawyer, witnesses...   \n",
       "8   When a man's daughter is suddenly taken during...   \n",
       "9   When a powerful satellite system falls into th...   \n",
       "10  Widowed U.S. president Andrew Shepherd, one of...   \n",
       "\n",
       "                         poster_path    video_key  \n",
       "0   /uXDfjJbdP4ijW5hWSBrPrlKpxab.jpg  tN1A2mVnrOM  \n",
       "1   /vgpXmVaVyUL7GGiDeiK1mKEKzcX.jpg  eTjDsENDZ6s  \n",
       "2   /1FSXpj5e8l4KH6nVFO5SPUeraOt.jpg  rEnOoWs3FuA  \n",
       "3   /4wjGMwPsdlvi025ZqR4rXnFDvBz.jpg  j9xml1CxgXI  \n",
       "4   /rj4LBtwQ0uGrpBnCELr716Qo3mw.jpg  _Pv5qMpwrdU  \n",
       "5   /obpPQskaVpSiC9RcJRB6iWDTCXS.jpg  14oNcFxiVaQ  \n",
       "6   /z1oNjotUI7D06J4LWQFQzdIuPnf.jpg  iEqPw_QP28c  \n",
       "7   /vIG8hWOa7DyLMRiurzKwVAnIYoU.jpg  -C-xXZyX2zU  \n",
       "8   /1pylO6YX5XdOA6QCc5IRxrrffkg.jpg  SCOxEKkuWG4  \n",
       "9   /bFzjdy6ucvNlXmJwoSoYfufV6lP.jpg  mSBHbGduo5I  \n",
       "10   /yObOAYFIHXHkFPQ3jhgkN2ezaD.jpg  UrC75wUKoFM  "
      ],
      "text/html": "<div>\n<style scoped>\n    .dataframe tbody tr th:only-of-type {\n        vertical-align: middle;\n    }\n\n    .dataframe tbody tr th {\n        vertical-align: top;\n    }\n\n    .dataframe thead th {\n        text-align: right;\n    }\n</style>\n<table border=\"1\" class=\"dataframe\">\n  <thead>\n    <tr style=\"text-align: right;\">\n      <th></th>\n      <th>id</th>\n      <th>title</th>\n      <th>overview</th>\n      <th>poster_path</th>\n      <th>video_key</th>\n    </tr>\n  </thead>\n  <tbody>\n    <tr>\n      <th>0</th>\n      <td>862.0</td>\n      <td>Toy Story</td>\n      <td>Led by Woody, Andy's toys live happily in his ...</td>\n      <td>/uXDfjJbdP4ijW5hWSBrPrlKpxab.jpg</td>\n      <td>tN1A2mVnrOM</td>\n    </tr>\n    <tr>\n      <th>1</th>\n      <td>8844.0</td>\n      <td>Jumanji</td>\n      <td>When siblings Judy and Peter discover an encha...</td>\n      <td>/vgpXmVaVyUL7GGiDeiK1mKEKzcX.jpg</td>\n      <td>eTjDsENDZ6s</td>\n    </tr>\n    <tr>\n      <th>2</th>\n      <td>15602.0</td>\n      <td>Grumpier Old Men</td>\n      <td>A family wedding reignites the ancient feud be...</td>\n      <td>/1FSXpj5e8l4KH6nVFO5SPUeraOt.jpg</td>\n      <td>rEnOoWs3FuA</td>\n    </tr>\n    <tr>\n      <th>3</th>\n      <td>31357.0</td>\n      <td>Waiting to Exhale</td>\n      <td>Cheated on, mistreated and stepped on, the wom...</td>\n      <td>/4wjGMwPsdlvi025ZqR4rXnFDvBz.jpg</td>\n      <td>j9xml1CxgXI</td>\n    </tr>\n    <tr>\n      <th>4</th>\n      <td>11862.0</td>\n      <td>Father of the Bride Part II</td>\n      <td>Just when George Banks has recovered from his ...</td>\n      <td>/rj4LBtwQ0uGrpBnCELr716Qo3mw.jpg</td>\n      <td>_Pv5qMpwrdU</td>\n    </tr>\n    <tr>\n      <th>5</th>\n      <td>949.0</td>\n      <td>Heat</td>\n      <td>Obsessive master thief, Neil McCauley leads a ...</td>\n      <td>/obpPQskaVpSiC9RcJRB6iWDTCXS.jpg</td>\n      <td>14oNcFxiVaQ</td>\n    </tr>\n    <tr>\n      <th>6</th>\n      <td>11860.0</td>\n      <td>Sabrina</td>\n      <td>An ugly duckling having undergone a remarkable...</td>\n      <td>/z1oNjotUI7D06J4LWQFQzdIuPnf.jpg</td>\n      <td>iEqPw_QP28c</td>\n    </tr>\n    <tr>\n      <th>7</th>\n      <td>45325.0</td>\n      <td>Tom and Huck</td>\n      <td>A mischievous young boy, Tom Sawyer, witnesses...</td>\n      <td>/vIG8hWOa7DyLMRiurzKwVAnIYoU.jpg</td>\n      <td>-C-xXZyX2zU</td>\n    </tr>\n    <tr>\n      <th>8</th>\n      <td>9091.0</td>\n      <td>Sudden Death</td>\n      <td>When a man's daughter is suddenly taken during...</td>\n      <td>/1pylO6YX5XdOA6QCc5IRxrrffkg.jpg</td>\n      <td>SCOxEKkuWG4</td>\n    </tr>\n    <tr>\n      <th>9</th>\n      <td>710.0</td>\n      <td>GoldenEye</td>\n      <td>When a powerful satellite system falls into th...</td>\n      <td>/bFzjdy6ucvNlXmJwoSoYfufV6lP.jpg</td>\n      <td>mSBHbGduo5I</td>\n    </tr>\n    <tr>\n      <th>10</th>\n      <td>9087.0</td>\n      <td>The American President</td>\n      <td>Widowed U.S. president Andrew Shepherd, one of...</td>\n      <td>/yObOAYFIHXHkFPQ3jhgkN2ezaD.jpg</td>\n      <td>UrC75wUKoFM</td>\n    </tr>\n  </tbody>\n</table>\n</div>"
     },
     "metadata": {},
     "execution_count": 7
    }
   ],
   "source": [
    "res"
   ]
  },
  {
   "cell_type": "code",
   "execution_count": null,
   "metadata": {},
   "outputs": [],
   "source": []
  }
 ]
}