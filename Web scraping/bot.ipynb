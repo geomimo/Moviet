{
 "metadata": {
  "language_info": {
   "codemirror_mode": {
    "name": "ipython",
    "version": 3
   },
   "file_extension": ".py",
   "mimetype": "text/x-python",
   "name": "python",
   "nbconvert_exporter": "python",
   "pygments_lexer": "ipython3",
   "version": "3.8.8-final"
  },
  "orig_nbformat": 2,
  "kernelspec": {
   "name": "python3",
   "display_name": "Python 3.8.8 64-bit ('webscrap': conda)",
   "metadata": {
    "interpreter": {
     "hash": "a74758c0db5d19cd8c71fb45c43a78a01250facf375ca2a9adfe810dce4a5b64"
    }
   }
  }
 },
 "nbformat": 4,
 "nbformat_minor": 2,
 "cells": [
  {
   "cell_type": "code",
   "execution_count": 2,
   "metadata": {},
   "outputs": [],
   "source": [
    "from urllib.request import urlopen as uReq\n",
    "import bs4\n",
    "from bs4 import BeautifulSoup\n",
    "import requests\n",
    "import pandas as pd"
   ]
  },
  {
   "cell_type": "code",
   "execution_count": 3,
   "metadata": {},
   "outputs": [],
   "source": [
    "def get_page_soup(id):\n",
    "    my_url = f\"https://www.themoviedb.org/movie/{id}\"\n",
    "    uClient = uReq(my_url)\n",
    "    page_html = uClient.read()\n",
    "    uClient.close()\n",
    "    return BeautifulSoup(page_html, \"html.parser\")"
   ]
  },
  {
   "cell_type": "code",
   "execution_count": 4,
   "metadata": {},
   "outputs": [],
   "source": [
    "def get_page_data(id, title):\n",
    "    page_soup = get_page_soup(id)\n",
    "\n",
    "    try:\n",
    "        poster_link = list(page_soup.findAll('img', {\"class\": \"poster\"}))[0].get('data-src')\n",
    "        img_name = download_img(poster_link, title)\n",
    "\n",
    "        overview = page_soup.find('div', {'class': 'overview'}).find('p').text\n",
    "\n",
    "        category_span = page_soup.find('span', {'class': 'genres'})\n",
    "        categories = [a.text for a in category_span.findAll('a')]\n",
    "\n",
    "        trailer_url = page_soup.find('a', {'class': 'no_click play_trailer'}).get(\"data-id\")\n",
    "    except:\n",
    "        return None\n",
    "\n",
    "    return {'overview': overview, 'categories': categories, 'poster': img_name, 'trailer': trailer_url}"
   ]
  },
  {
   "cell_type": "code",
   "execution_count": 5,
   "metadata": {},
   "outputs": [],
   "source": [
    "def download_img(img_url, title):\n",
    "    my_url = f'https://image.tmdb.org/t/p/w342/{img_url}'\n",
    "    response = requests.get(my_url, stream=True)\n",
    "    file_size = int(response.headers.get(\"Content-Length\", 0))\n",
    "    file_name = img_url.split('/')[-1].split('.')[0] + \"_\" + title.replace(' ', '_') + '.jpg'\n",
    "    with open('posters/' + file_name, \"wb\") as f:\n",
    "        for data in response.iter_content(1024):\n",
    "            f.write(data)\n",
    "    return file_name\n"
   ]
  },
  {
   "cell_type": "code",
   "execution_count": 6,
   "metadata": {},
   "outputs": [],
   "source": [
    "def get_data(id):\n",
    "    movie_response = requests.get(f'{API_URL}/{id}{API_KEY}').json()\n",
    "    title = movie_response['title']\n",
    "    overview = movie_response['overview']\n",
    "    poster_path = movie_response['poster_path']\n",
    "    poster_path = download_img(poster_path, title)\n",
    "\n",
    "    video_response = requests.get(f'{API_URL}/{id}/videos{API_KEY}').json()\n",
    "    video_key = None\n",
    "    for vid in video_response['results']:\n",
    "        if vid['type'] == 'Trailer':\n",
    "            video_key = vid['key']\n",
    "    \n",
    "    if video_key is None:\n",
    "        return None\n",
    "\n",
    "    return pd.Series({'id': id, 'title': title, 'overview': overview, 'poster_path': poster_path, 'video_key': video_key})"
   ]
  },
  {
   "cell_type": "code",
   "execution_count": 7,
   "metadata": {},
   "outputs": [],
   "source": [
    "links_df = pd.read_csv('ml-latest-small/links.csv')"
   ]
  },
  {
   "cell_type": "code",
   "execution_count": 8,
   "metadata": {},
   "outputs": [],
   "source": [
    "API_KEY = '?api_key=9fe15a0c0fc071b3fab1b7cb6cf61dee'\n",
    "API_URL = 'https://api.themoviedb.org/3/movie/'"
   ]
  },
  {
   "cell_type": "code",
   "execution_count": 9,
   "metadata": {},
   "outputs": [],
   "source": [
    "res = links_df.loc[:10, 'tmdbId'].apply(get_data)"
   ]
  },
  {
   "cell_type": "code",
   "execution_count": null,
   "metadata": {},
   "outputs": [],
   "source": []
  }
 ]
}