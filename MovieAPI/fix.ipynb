{
 "metadata": {
  "language_info": {
   "codemirror_mode": {
    "name": "ipython",
    "version": 3
   },
   "file_extension": ".py",
   "mimetype": "text/x-python",
   "name": "python",
   "nbconvert_exporter": "python",
   "pygments_lexer": "ipython3",
   "version": "3.8.8-final"
  },
  "orig_nbformat": 2,
  "kernelspec": {
   "name": "python3",
   "display_name": "Python 3.8.8 64-bit ('webscrap': conda)",
   "metadata": {
    "interpreter": {
     "hash": "a74758c0db5d19cd8c71fb45c43a78a01250facf375ca2a9adfe810dce4a5b64"
    }
   }
  }
 },
 "nbformat": 4,
 "nbformat_minor": 2,
 "cells": [
  {
   "cell_type": "code",
   "execution_count": 1,
   "metadata": {},
   "outputs": [],
   "source": [
    "import pandas as pd"
   ]
  },
  {
   "cell_type": "code",
   "execution_count": 13,
   "metadata": {},
   "outputs": [],
   "source": [
    "res = pd.read_csv('DataInit/movies.csv')"
   ]
  },
  {
   "cell_type": "code",
   "execution_count": 14,
   "metadata": {},
   "outputs": [],
   "source": [
    "for i, row in res[['title','poster_path']].iterrows():\n",
    "    res.loc[i, 'poster_path'] = row['poster_path'].split('_')[0] + \".jpg\"\n",
    "    "
   ]
  },
  {
   "cell_type": "code",
   "execution_count": 25,
   "metadata": {},
   "outputs": [
    {
     "output_type": "execute_result",
     "data": {
      "text/plain": [
       "373      /10N8SvTQwUqyWgocPam1P18Jgr.jpg\n",
       "74      /12PuU23kkDLvTd0nb8hMlE3oShB.jpg\n",
       "1303    /138DFtHjGQcDK4vQavLJ51xEBjZ.jpg\n",
       "388     /13vOO3DtEG0OYEbgcvVS6XimoIP.jpg\n",
       "235     /15uOEfqBNTVtDUT7hGBVCka0rZz.jpg\n",
       "20      /170VKibfqMR1k0eaR2pIj830MgW.jpg\n",
       "1256    /1AUzpDzJSecEBIgwUIPzL5KMuTQ.jpg\n",
       "655     /1Crro6hN91lXc1sWXkU52tfjpAs.jpg\n",
       "1150    /1CvJ6diBACKPVGOpcWuY4XPQdqX.jpg\n",
       "1039    /1HS9zfqZKaEuGaD8BQiPXuxkUNI.jpg\n",
       "942     /1IU0pJskxWoP1ZD9XHxyJleJYHg.jpg\n",
       "1274    /1J2FvxEoEKMFT9TjUdfhm0MJhZD.jpg\n",
       "157     /1P3ZyEq02wcTMd3iE4ebtLvncvH.jpg\n",
       "296     /1Ptdh2fdA5xpH5Zj8AQUAp9Tdoa.jpg\n",
       "458     /1QpO9wo7JWecZ4NiBuu625FiY1j.jpg\n",
       "85      /1RFIbuW9Z3eN9Oxw2KaQG5DfLmD.jpg\n",
       "1307    /1RbFlmHSix0tY54KKuINbLMt0o5.jpg\n",
       "626     /1S27OZjga5YX4vFqLQ4T2mTIvhk.jpg\n",
       "479     /1UkG3G4jhM9XMbbYyqWQ7NUnUTT.jpg\n",
       "488     /1VMWLpk9VXyYcEZ8w3uUhp0OF1v.jpg\n",
       "510     /1VirGabodNUTqD4E5AtULtPXucO.jpg\n",
       "777     /1YtsND7vSNymylnOSzgg3DdVFMB.jpg\n",
       "513     /1ZQSkyEDRJdk6TCAThBojB5hJcK.jpg\n",
       "686     /1a4VU9z2hxEvugHMK7VsobB9xTX.jpg\n",
       "304     /1fq1IpnuVqkD5BMuaXAUW0eVB21.jpg\n",
       "1133    /1h12RzwEI1xYtBWJ7THRnkmrcaQ.jpg\n",
       "1279    /1hf7x6WmyXtL1MlY4eSlTbZ8Nzu.jpg\n",
       "1037    /1jYKJEGcgbkEjlKuY94Dv7BVe1P.jpg\n",
       "286     /1nd4SsytVc96hy92g8NNVPD3mzf.jpg\n",
       "239     /1oWjq7E5YbhoOfVPzbDfhQzcxjY.jpg\n",
       "1366    /1oqfg2IBGNFAFylDK56NXo558y2.jpg\n",
       "533     /1pyU94dAY7npDQCKuxCSyX9KthN.jpg\n",
       "179     /1qCq228LsNtUseCnNE7Naw6NBUz.jpg\n",
       "923     /1qGyTDp4K4J2RjGtT5hR81ilX9r.jpg\n",
       "890     /1qwj0wKFsDoC3w2i2kDhXY330TU.jpg\n",
       "1387    /1r3PADJqhy771WdfFR6FwWzOiuG.jpg\n",
       "1236    /1rQmqM2EPmsMyZUeczvAmdDvs0L.jpg\n",
       "470     /1wki1OaDA35RarysOPet25a8hVQ.jpg\n",
       "785     /20MSnfTICmwvAs2YJTqcSTjwBDc.jpg\n",
       "1258    /23hRj34VyPNr8MyV8rKC2hd7JB1.jpg\n",
       "348     /25cQH5gZ60BiA5Y91HxoPpnFiY0.jpg\n",
       "931     /27kxQEvyMJH1SM2mEa6Es0pfx6Z.jpg\n",
       "1002    /29t5x0Aj4cQJJC9jNR3VWS7l3JL.jpg\n",
       "1318    /2AljZDgKhzFaKO6i9tgmcytEA2b.jpg\n",
       "949     /2ApifgYnfdJUSmCKzTBrWOYYWsn.jpg\n",
       "435     /2B3kSc4hKYWHsC8NgZhTLNIGmOR.jpg\n",
       "337     /2C9vyK6leWDb2ds65R7uIwSmh8V.jpg\n",
       "620     /2ED1GaTKhHielGYa1giBsxfoacp.jpg\n",
       "958     /2GDdW84XSX3BYMJ9tmnFkZOGJyB.jpg\n",
       "910     /2L3Cn0CizbSy2E9KJt1SiOSyb6p.jpg\n",
       "Name: poster_path, dtype: object"
      ]
     },
     "metadata": {},
     "execution_count": 25
    }
   ],
   "source": [
    "res['poster_path'].sort_values().head(50)"
   ]
  },
  {
   "cell_type": "code",
   "execution_count": 22,
   "metadata": {},
   "outputs": [],
   "source": [
    "res.to_csv('results.csv')"
   ]
  },
  {
   "cell_type": "code",
   "execution_count": null,
   "metadata": {},
   "outputs": [],
   "source": []
  }
 ]
}